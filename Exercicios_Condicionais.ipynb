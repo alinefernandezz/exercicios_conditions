{
  "nbformat": 4,
  "nbformat_minor": 0,
  "metadata": {
    "colab": {
      "provenance": []
    },
    "kernelspec": {
      "name": "python3",
      "display_name": "Python 3"
    },
    "language_info": {
      "name": "python"
    }
  },
  "cells": [
    {
      "cell_type": "markdown",
      "source": [
        "1. Leia dois números, faça a soma e apresente caso seja maior que 15.\n"
      ],
      "metadata": {
        "id": "g4LroFm0ub8Y"
      }
    },
    {
      "cell_type": "code",
      "source": [
        "numero1 = int(input('Digite um número: '))\n",
        "numero2 = int(input('Digite outro número: '))\n",
        "soma = numero1 + numero2\n",
        "\n",
        "if soma > 15:\n",
        "  print('O Resultado da sua soma é: ', soma)\n",
        "else:\n",
        "  print('A soma dos números digitados nao sao maior que 15! Tente novamente!')"
      ],
      "metadata": {
        "colab": {
          "base_uri": "https://localhost:8080/"
        },
        "id": "k14PQgGLvQTk",
        "outputId": "d4cc9435-5e88-42d3-eb0e-4d5af5f1755f"
      },
      "execution_count": null,
      "outputs": [
        {
          "output_type": "stream",
          "name": "stdout",
          "text": [
            "Digite um número: 89\n",
            "Digite outro número: 100\n",
            "O Resultado da sua soma é:  189\n"
          ]
        }
      ]
    },
    {
      "cell_type": "markdown",
      "source": [
        "2. Faça um programa que recebendo um valor inteiro, informe se o número é positivo,\n",
        "negativo ou neutro."
      ],
      "metadata": {
        "id": "ydp5O31WwaP1"
      }
    },
    {
      "cell_type": "code",
      "source": [
        "valor = int(input('Informe um valor inteiro: '))\n",
        "\n",
        "if valor < 0 :\n",
        "  print('O valor digitado é negativo: ', valor)\n",
        "elif valor == 0:\n",
        "  print('O valor digitado é neutro: ', valor)\n",
        "else:\n",
        "  print('Voce digitou um valor positivo: ', valor)"
      ],
      "metadata": {
        "colab": {
          "base_uri": "https://localhost:8080/"
        },
        "id": "x1K3U3hywQvu",
        "outputId": "4f0d2279-2f7d-4b62-f16b-7d7ca69844aa"
      },
      "execution_count": null,
      "outputs": [
        {
          "output_type": "stream",
          "name": "stdout",
          "text": [
            "Informe um valor inteiro: -9\n",
            "O valor digitado é negativo:  -9\n"
          ]
        }
      ]
    },
    {
      "cell_type": "markdown",
      "source": [
        "3. Leia a idade e informe se a pessoa é maior ou menor de idade"
      ],
      "metadata": {
        "id": "j9pTXDXZ0YT9"
      }
    },
    {
      "cell_type": "code",
      "source": [
        "idade = int(input('Digite a idade da pessoa: '))\n",
        "\n",
        "if idade >= 18:\n",
        "  print('A pessoa é maior de idade, tem {} anos.'.format(idade))\n",
        "else:\n",
        "  print('A pessoa é menor de idade, tem {} anos.'.format(idade))"
      ],
      "metadata": {
        "colab": {
          "base_uri": "https://localhost:8080/"
        },
        "id": "Z1zZDpLs0Acw",
        "outputId": "06713afc-7d8a-4679-f633-0e6f2f2335ae"
      },
      "execution_count": null,
      "outputs": [
        {
          "output_type": "stream",
          "name": "stdout",
          "text": [
            "Digite a idade da pessoa: 78\n",
            "A pessoa é maior de idade, tem 78 anos.\n"
          ]
        }
      ]
    },
    {
      "cell_type": "markdown",
      "source": [
        "4. Faça um programa que pergunte a temperatura atual para o usuário e mostre uma\n",
        "mensagem na tela dizendo se está “quente”, “frio” ou “agradável”"
      ],
      "metadata": {
        "id": "Yk-KulFU3B96"
      }
    },
    {
      "cell_type": "code",
      "source": [
        "temperatura = float(input('Digite a temperatura atual (apenas números): '))\n",
        "\n",
        "if temperatura > 20:\n",
        "  print('Nossa! Que pena, hoje é um dia quente')\n",
        "elif temperatura < 20 and temperatura > 15:\n",
        "  print('Que bom! Hoje o clima está agradável')\n",
        "else:\n",
        "  print('Melhor voce tomar cuidado, hoje está um dia frio')"
      ],
      "metadata": {
        "colab": {
          "base_uri": "https://localhost:8080/"
        },
        "id": "mZsxTr9R1MpM",
        "outputId": "d0907f45-87a8-498a-dc00-7d420289c08c"
      },
      "execution_count": null,
      "outputs": [
        {
          "output_type": "stream",
          "name": "stdout",
          "text": [
            "Digite a temperatura atual (apenas números): 7\n",
            "Melhor voce tomar cuidado, hoje está um dia frio\n"
          ]
        }
      ]
    },
    {
      "cell_type": "markdown",
      "source": [
        "5. Faça um programa em linguagem Python que leia dois números inteiros e informe\n",
        "se estes são iguais ou diferentes."
      ],
      "metadata": {
        "id": "sp3f9YTl5FgV"
      }
    },
    {
      "cell_type": "code",
      "source": [
        "numero1 = int(input('Digite um número: '))\n",
        "numero2 = int(input('Dgite outro número: '))\n",
        "\n",
        "if numero1 == numero2:\n",
        "  print('Os números digitados sao iguais, voce digitou {} e {} ambos os números sao iguais.'.format(numero1,numero2))\n",
        "else:\n",
        "  print('Voce digitou números diferentes {} e {}!'.format(numero1,numero2))"
      ],
      "metadata": {
        "colab": {
          "base_uri": "https://localhost:8080/"
        },
        "id": "E5ARlBpy4zJo",
        "outputId": "52a020bc-b5df-4914-9473-dac3e462b7ba"
      },
      "execution_count": null,
      "outputs": [
        {
          "output_type": "stream",
          "name": "stdout",
          "text": [
            "Digite um número: 8\n",
            "Dgite outro número: 1\n",
            "Voce digitou números diferentes 8 e 1!\n"
          ]
        }
      ]
    },
    {
      "cell_type": "markdown",
      "source": [
        "6. Escreva um programa que verifique a validade de uma senha fornecida pelo\n",
        "usuário. A senha válida é o número 1234. Devem ser impressas as seguintes mensagens\n",
        "\n",
        "ACESSO PERMITIDO caso a senha seja válida.\n",
        " ACESSO NEGADO caso a senha seja inválida.\n"
      ],
      "metadata": {
        "id": "Xews-Zp07PkF"
      }
    },
    {
      "cell_type": "code",
      "source": [
        "senha = 1234\n",
        "senha_digitada = int(input('Digite a senha, para que sejam feitas as devidas validacoes: '))\n",
        "\n",
        "if senha_digitada == senha:\n",
        "  print('ACESSO PERMITIDO!')\n",
        "else:\n",
        "  print('ACESSO NEGADO!')"
      ],
      "metadata": {
        "colab": {
          "base_uri": "https://localhost:8080/"
        },
        "id": "TCok8pHp7CLp",
        "outputId": "307243d7-3f23-4070-dda6-1a80d9508575"
      },
      "execution_count": null,
      "outputs": [
        {
          "output_type": "stream",
          "name": "stdout",
          "text": [
            "Digite a senha, para que sejam feitas as devidas validacoes: 7854\n",
            "ACESSO NEGADO!\n"
          ]
        }
      ]
    },
    {
      "cell_type": "markdown",
      "source": [
        "7. Ler duas notas de um aluno, efetuar a média aritmética e, se a média for maior ou\n",
        "igual a 7, informar que o aluno foi aprovado; se a média for maior ou igual a 5 mas\n",
        "menor do que 7, informar que o aluno está de exame; se a média for menor do que\n",
        "5 informar que o aluno foi reprovado."
      ],
      "metadata": {
        "id": "tIVCgWJC-tuX"
      }
    },
    {
      "cell_type": "code",
      "source": [
        "nota1 = float(input('Digite a primeira nota: '))\n",
        "nota2 = float(input('Digite a segunda nota: '))\n",
        "media = (nota1+nota2)/2\n",
        "\n",
        "if media >= 7:\n",
        "  print('Voce foi aprovado, sua média foi {}'.format(media))\n",
        "elif media >= 5:\n",
        "  print('Voce está em exame, sua média foi {}'.format(media))\n",
        "else:\n",
        "  print('Voce foi reprovado!, sua media foi {}'.format(media))"
      ],
      "metadata": {
        "colab": {
          "base_uri": "https://localhost:8080/"
        },
        "id": "fAMzQSnD8ze6",
        "outputId": "cd14adff-10a1-42a5-cb25-e145d93ee0c0"
      },
      "execution_count": null,
      "outputs": [
        {
          "output_type": "stream",
          "name": "stdout",
          "text": [
            "Digite a primeira nota: 10\n",
            "Digite a segunda nota: 10\n",
            "Voce foi aprovado, sua média foi 10.0\n"
          ]
        }
      ]
    },
    {
      "cell_type": "markdown",
      "source": [
        "8. Desenvolva um programa que recebe do usuário o placar de um jogo de futebol (os\n",
        "gols de cada time) e informe se o resultado foi um empate, se a vitória foi do\n",
        "primeiro time ou do segundo time."
      ],
      "metadata": {
        "id": "nq9JTGh4AqWE"
      }
    },
    {
      "cell_type": "code",
      "source": [
        "time1 = int(input('Digite os gols do primeiro time: '))\n",
        "time2 = int(input('Digite os gols do segundo time: '))\n",
        "\n",
        "if time1 > time2:\n",
        "  print('O time 1 ganhou do time 2, fazendo {} gols e o time 2 apenas {} gols'.format(time1, time2))\n",
        "elif time2 > time1:\n",
        "  print('O time 2 ganhou do time 1, fazendo {} gols e o time 1 apenas {} gols'.fotrmat(time2, time1))\n",
        "else:\n",
        "  print('Os times empataram, o time 1 fez {} gols e o time 2 fez {} gols'.format(time1, time2))"
      ],
      "metadata": {
        "colab": {
          "base_uri": "https://localhost:8080/"
        },
        "id": "6KraDyviBLWQ",
        "outputId": "a4b9dce2-8596-4465-f900-5c4652d49621"
      },
      "execution_count": null,
      "outputs": [
        {
          "output_type": "stream",
          "name": "stdout",
          "text": [
            "Digite os gols do primeiro time: 8\n",
            "Digite os gols do segundo time: 2\n",
            "O time 1 ganhou do time 2, fazendo 8 gols e o time 2 apenas 2 gols\n"
          ]
        }
      ]
    },
    {
      "cell_type": "markdown",
      "source": [
        "9. Faça um Programa que pergunte em que turno você estuda. Peça para digitar Mmatutino ou V-Vespertino ou N- Noturno. Imprima a mensagem \"Bom Dia!\", \"Boa\n",
        "Tarde!\" ou \"Boa Noite!\" ou \"Valor Inválido!\", conforme o caso."
      ],
      "metadata": {
        "id": "4ooidhxECjRv"
      }
    },
    {
      "cell_type": "code",
      "source": [
        "turno = str(input('Digite o turno que voce estuda: M, para Matutino, V para Vespertino ou N para noturno: ')).upper()\n",
        "\n",
        "if turno =='M':\n",
        "  print('Bom dia!')\n",
        "elif turno == 'V':\n",
        "  print('Boa tarde!')\n",
        "else:\n",
        "  print('Boa noite!')"
      ],
      "metadata": {
        "colab": {
          "base_uri": "https://localhost:8080/"
        },
        "id": "NIEbU5GVC38t",
        "outputId": "df174e66-98b2-4f53-b56f-9775125ce4b6"
      },
      "execution_count": null,
      "outputs": [
        {
          "output_type": "stream",
          "name": "stdout",
          "text": [
            "Digite o turno que voce estuda: M, para Matutino, V para Vespertino ou N para noturno: n\n",
            "Boa noite!\n"
          ]
        }
      ]
    },
    {
      "cell_type": "markdown",
      "source": [
        "10. Faça um programa que solicite ao usuário sua idade, depois disso, exiba a\n",
        "classificação etária de acordo com as faixas de valores:\n",
        " Criança para 0 até 11 anos;\n",
        " Adolescente para 12 até 18 anos;\n",
        " Jovem para 19 até 24 anos;\n",
        " Adulto para 25 até 40 anos;\n",
        " Meia Idade para 41 até 60 anos;\n",
        " Idoso acima de 60 anos."
      ],
      "metadata": {
        "id": "qwTiOXMUD3bG"
      }
    },
    {
      "cell_type": "code",
      "source": [
        "idade = int(input('Digite sua idade: '))\n",
        "\n",
        "if idade >= 0 and idade <12:\n",
        "  print('Voce é uma crianca')\n",
        "elif idade >= 12 and idade <= 18:\n",
        "  print('Voce é adolescente')\n",
        "elif idade > 18 and idade <= 24:\n",
        "  print('Voce e Jovem')\n",
        "elif idade > 24 and idade <= 40:\n",
        "  print('Voce é adulto')\n",
        "elif idade > 40 and idade <60:\n",
        "  print('Você está na meia idade')\n",
        "else:\n",
        "  print('Você é idoso')\n"
      ],
      "metadata": {
        "colab": {
          "base_uri": "https://localhost:8080/"
        },
        "id": "5_rSojqFSjRE",
        "outputId": "3c469e82-7f5a-41b4-bd55-963e707214cd"
      },
      "execution_count": null,
      "outputs": [
        {
          "output_type": "stream",
          "name": "stdout",
          "text": [
            "Digite sua idade: 5\n",
            "Voce é uma crianca\n"
          ]
        }
      ]
    },
    {
      "cell_type": "markdown",
      "source": [
        "11. As Organizações Tabajara resolveram dar um aumento de salário aos seus\n",
        "colaboradores e lhe contrataram para desenvolver o programa que calculará os\n",
        "reajustes.\n",
        "\n",
        "Faça um programa que recebe o salário de um colaborador e o reajuste\n",
        "segundo o seguinte critério, baseado no salário atual:\n",
        "\n",
        "\n",
        " salários até R$ 280,00 (incluindo) : aumento de 20%\n",
        "\n",
        "\n",
        " salários entre R$ 280,00 e R$ 700,00 : aumento de 15%\n",
        "\n",
        "\n",
        " salários entre R$ 700,00 e R$ 1500,00 : aumento de 10%\n",
        "\n",
        "\n",
        " salários de R$ 1500,00 em diante : aumento de 5%\n",
        "\n",
        "\n",
        "Após o aumento ser realizado, informe na tela:\n",
        "\n",
        "\n",
        " o salário antes do reajuste;\n",
        "\n",
        "\n",
        " o percentual de aumento aplicado;\n",
        "\n",
        "\n",
        " o valor do aumento;\n",
        "\n",
        "\n",
        " o novo salário, após o aumento.\n"
      ],
      "metadata": {
        "id": "xGOL9sx8PVt0"
      }
    },
    {
      "cell_type": "code",
      "source": [
        "salario = float(input('Digite o salário do colaborador: R$ '))\n",
        "\n",
        "if salario <= 280:\n",
        "    percentual_aumento = 20\n",
        "elif salario <= 700:\n",
        "    percentual_aumento = 15\n",
        "elif salario <= 1500:\n",
        "    percentual_aumento = 10\n",
        "else:\n",
        "    percentual_aumento = 5\n",
        "\n",
        "\n",
        "aumento = salario * (percentual_aumento / 100)\n",
        "novo_salario = salario + aumento\n",
        "\n",
        "print('Salário antes do reajuste: {:.2f} R$'.format(salario))\n",
        "print('Percentual de aumento aplicado: {:.2f}%'.format(percentual_aumento))\n",
        "print('Valor do aumento: R$ {:.2f}'.format(aumento))\n",
        "print('Novo salário após o aumento: R$ {:.2f}'.format(novo_salario))"
      ],
      "metadata": {
        "id": "6UlfMS9XR9Qm"
      },
      "execution_count": null,
      "outputs": []
    },
    {
      "cell_type": "markdown",
      "source": [
        "12. Faça um Programa que leia um número e exiba o dia correspondente da semana.\n",
        "(1-Domingo, 2- Segunda, etc.), se digitar outro valor deve aparecer valor inválido"
      ],
      "metadata": {
        "id": "XJiHxQY9Y5oB"
      }
    },
    {
      "cell_type": "code",
      "source": [
        "numero = int(input('Digite o número 1 para Domingo, 2 para Segunda, 3 para terça, 4 para quarta, 5 para quinta, 6 para sexta ou 7 para sábado: '))\n",
        "\n",
        "if numero == 1:\n",
        "  print('Você digitou Domingo!')\n",
        "elif numero == 2:\n",
        "  print('Você digitou Segunda!')\n",
        "elif numero == 3:\n",
        "  print('Você digitou Terça!')\n",
        "elif numero == 4:\n",
        "  print('Você digitou Quarta!')\n",
        "elif numero == 5:\n",
        "  print('Você digitou Quinta')\n",
        "elif numero == 6:\n",
        "  print('Voce digitou Sexta!')\n",
        "elif numero == 7:\n",
        "  print('Você digitou Sábado!')\n",
        "else:\n",
        "  print('Número inválido!')"
      ],
      "metadata": {
        "colab": {
          "base_uri": "https://localhost:8080/"
        },
        "id": "yJOY_JmXVZ4C",
        "outputId": "a24434bd-1fe0-421a-fb1d-7245e86aecff"
      },
      "execution_count": null,
      "outputs": [
        {
          "output_type": "stream",
          "name": "stdout",
          "text": [
            "Digite o número 1 para Domingo, 2 para Segunda, 3 para terça, 4 para quarta, 5 para quinta, 6 para sexta ou 7 para sábado: 7\n",
            "Você digitou Sábado!\n"
          ]
        }
      ]
    },
    {
      "cell_type": "markdown",
      "source": [
        "13. Faça um programa que pergunte ao usuário se ele quer passar uma temperatura de\n",
        "Fahrenheit para Celsius ou de Celsius para Fahrenheit, e que, a partir da resposta\n",
        "do usuário, faça a devida conversão."
      ],
      "metadata": {
        "id": "J5-jX25bazEU"
      }
    },
    {
      "cell_type": "code",
      "source": [
        "alternativa= int(input('Digite 1 para colocar a temperatura de Fahreinehit para Celsius ou 2 para colocar de Celsius para Fahreinheit: '))\n",
        "\n",
        "\n",
        "if alternativa == 1:\n",
        "  temperatura_f = float(input('Digite a temperatura: '))\n",
        "  fahreinheit_celsius = (temperatura_f - 32)/1.8\n",
        "  print('A conversão ficou {:.0f} celsius'.format(fahreinheit_celsius))\n",
        "elif alternativa == 2:\n",
        "  temperatura_f = float(input('Digite a temperatura: '))\n",
        "  celsius_fahreinheit = ((temperatura_f*1.8)+32)\n",
        "  print('A conversão ficou {:.0f} fahreinheit'.format(celsius_fahreinheit))\n",
        "\n",
        "else:\n",
        "  print( 'Alternativa inválida!')"
      ],
      "metadata": {
        "colab": {
          "base_uri": "https://localhost:8080/"
        },
        "id": "KGLZe7avjeAz",
        "outputId": "4098b9bd-41ab-4566-8212-328308c62241"
      },
      "execution_count": null,
      "outputs": [
        {
          "output_type": "stream",
          "name": "stdout",
          "text": [
            "Digite 1 para colocar a temperatura de Fahreinehit para Celsius ou 2 para colocar de Celsius para Fahreinheit: 1\n",
            "Digite a temperatura: 500\n",
            "A conversão ficou 260 celsius\n"
          ]
        }
      ]
    },
    {
      "cell_type": "markdown",
      "source": [
        "14. Faça um programa que receba a idade de uma pessoa e imprima sua condição (obrigatória, optativa ou proíbida), em relação ao ato de votar, conforme apresentado abaixo:\n",
        "\n",
        "* Pessoas com idade menor que 16 anos são proibidas de votar (proibido)\n",
        "\n",
        "* Pessoas com idade igual a 16 e menor que 18 anos não são obrigadas a votar (optativo)\n",
        "\n",
        "* Pessoas  com idade igual a 18 e menor que 65 anos são obrigadas a votar (obrigatório)\n",
        "\n",
        "* Pessoas com idade igual ou maior que 65 anos não são obrigadas a votar (optativo)"
      ],
      "metadata": {
        "id": "rwgjGsxHlYxH"
      }
    },
    {
      "cell_type": "code",
      "source": [
        "idade = int(input('Digite sua idade: '))\n",
        "\n",
        "if idade < 16:\n",
        "  print('Você não pode votar!')\n",
        "elif idade == 16 and idade < 18:\n",
        "  print('Seu voto é optativo!')\n",
        "elif idade == 18 or idade < 65:\n",
        "  print('Seu voto é obrigatório!')\n",
        "else:\n",
        "  print('Seu voto é optativo!')\n"
      ],
      "metadata": {
        "colab": {
          "base_uri": "https://localhost:8080/"
        },
        "id": "_a9fUyWek4Am",
        "outputId": "0eddf942-d11c-408d-f13c-9db6cca94ab1"
      },
      "execution_count": null,
      "outputs": [
        {
          "output_type": "stream",
          "name": "stdout",
          "text": [
            "Digite sua idade: 80\n",
            "Seu voto é optativo!\n"
          ]
        }
      ]
    },
    {
      "cell_type": "markdown",
      "source": [
        "15. Faça um programa que faça 5 perguntas para uma pessoa sobre um crime. As perguntas são:\n",
        "\n",
        "* \"Telefonou para a vítima?\"\n",
        "\n",
        "* \"Esteve no local do crime?\"\n",
        "\n",
        "* \"Mora perto da vítima? \"\n",
        "\n",
        "* \"Devia para a vítima? \"\n",
        "\n",
        "* \"Já trabalhou com a vitima?\"\n",
        "\n",
        "O programa deve no final emitir uma classificação sobre a participação da pessoa no crime. Se a pessoa responder positivamente a 2 questõesela deve ser classificada como \"Suspeita\", entre 3 e 4 como \"Cúmplica\" e 5 como \"Assassino\".\n",
        "Caso contrário ele será classificado como inocente."
      ],
      "metadata": {
        "id": "T5M8F2Yvn-G2"
      }
    },
    {
      "cell_type": "code",
      "source": [
        "print(\"Responda as perguntas com 'sim' ou 'nao':\")\n",
        "\n",
        "pergunta1 = input('Telefonou para a vítima? ').lower()\n",
        "pergunta2 = input('Esteve no local do crime? ').lower()\n",
        "pergunta3 = input('Mora perto da vítima? ').lower()\n",
        "pergunta4 = input('Devia para a vítima? ').lower()\n",
        "pergunta5 = input('Já trabalhou com a vítima? ').lower()\n",
        "\n",
        "respostas_positivas = 0\n",
        "\n",
        "if pergunta1 == 'sim':\n",
        "    respostas_positivas += 1\n",
        "\n",
        "if pergunta2 == 'sim':\n",
        "    respostas_positivas += 1\n",
        "\n",
        "if pergunta3 == 'sim':\n",
        "    respostas_positivas += 1\n",
        "\n",
        "if pergunta4 == 'sim':\n",
        "    respostas_positivas += 1\n",
        "\n",
        "if pergunta5 == 'sim':\n",
        "    respostas_positivas += 1\n",
        "\n",
        "if respostas_positivas == 2:\n",
        "    print('Você é suspeito.')\n",
        "elif 3 <= respostas_positivas <= 4:\n",
        "    print('Você é cúmplice.')\n",
        "elif respostas_positivas == 5:\n",
        "    print('Você é o assassino.')\n",
        "else:\n",
        "    print('Você é inocente.')"
      ],
      "metadata": {
        "colab": {
          "base_uri": "https://localhost:8080/"
        },
        "id": "DnosU20OnX2O",
        "outputId": "476c0ce5-aa90-406d-ca2f-532908e06c3b"
      },
      "execution_count": null,
      "outputs": [
        {
          "output_type": "stream",
          "name": "stdout",
          "text": [
            "Responda as perguntas com 'sim' ou 'nao':\n",
            "Telefonou para a vítima? sim\n",
            "Esteve no local do crime? nao\n",
            "Mora perto da vítima? sim\n",
            "Devia para a vítima? nao\n",
            "Já trabalhou com a vítima? sim\n",
            "Você é cúmplice.\n"
          ]
        }
      ]
    },
    {
      "cell_type": "markdown",
      "source": [
        "16. Faça um programa que pergunte o preço de três produtos e informe qual produto\n",
        "você deve comprar, sabendo que a decisão é sempre pelo mais barato."
      ],
      "metadata": {
        "id": "HvU1Gjr_1f-C"
      }
    },
    {
      "cell_type": "code",
      "source": [
        "produto1 = float(input('Qual o preço do produto 1?: '))\n",
        "produto2 = float(input('Qual o preço do produto 2?: '))\n",
        "produto3= float(input('Qual o preço do produto 3?: '))\n",
        "\n",
        "if produto1 < produto2 and produto1 < produto3:\n",
        "  print('Você deve comprar o produto 1!')\n",
        "if produto2 < produto1 and produto2 < produto3:\n",
        "  print('Você deve comprar o produto 2!')\n",
        "elif produto3 < produto1 and produto3 < produto2:\n",
        "  print('Você deve comprar o produto 3!')"
      ],
      "metadata": {
        "colab": {
          "base_uri": "https://localhost:8080/"
        },
        "id": "JcimWgtB9qwf",
        "outputId": "fed966d9-db66-4339-d6ed-97bda2911884"
      },
      "execution_count": null,
      "outputs": [
        {
          "output_type": "stream",
          "name": "stdout",
          "text": [
            "Qual o preço do produto 1?: 900\n",
            "Qual o preço do produto 2?: 50\n",
            "Qual o preço do produto 3?: 700\n",
            "Você deve comprar o produto 2!\n"
          ]
        }
      ]
    },
    {
      "cell_type": "code",
      "source": [],
      "metadata": {
        "id": "APGteDCGITKw"
      },
      "execution_count": null,
      "outputs": []
    }
  ]
}